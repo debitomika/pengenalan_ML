{
 "cells": [
  {
   "cell_type": "markdown",
   "id": "distributed-nutrition",
   "metadata": {},
   "source": [
    "## Persiapan Data"
   ]
  },
  {
   "cell_type": "markdown",
   "id": "joined-dinner",
   "metadata": {},
   "source": [
    "Kemiskinan merupakan masalah yang masih menjadi trending topic di seluruh negara, terutama di negara berkembang seperti Indonesia. Pengentasan kemiskinan merupakan tujuan pertama dari Sustainable Development Goals (SDGs) yang digagas oleh United Nations Development Programme (UNDP). Masalah kemiskinan juga seringkali dijadikan indikator untuk mengevaluasi kinerja pemerintah dalam meningkatkan taraf hidup rakyat."
   ]
  },
  {
   "cell_type": "code",
   "execution_count": 1,
   "id": "established-jacob",
   "metadata": {},
   "outputs": [],
   "source": [
    "%matplotlib inline\n",
    "import numpy as np\n",
    "import pandas as pd\n",
    "import seaborn as sns\n",
    "sns.set(style='darkgrid')\n",
    "import matplotlib.pyplot as plt\n",
    "\n",
    "import os\n",
    "import sys\n",
    "import json\n",
    "\n",
    "from pandas.io.stata import StataReader\n",
    "\n",
    "from matplotlib import pyplot as plt\n",
    "from IPython.display import display\n",
    "\n",
    "from sklearn.model_selection import train_test_split\n",
    "\n",
    "# Add our local functions to the path\n",
    "sys.path.append(os.path.join(os.pardir, 'src'))"
   ]
  },
  {
   "cell_type": "markdown",
   "id": "burning-store",
   "metadata": {},
   "source": [
    "## Load data\n",
    "Load data .sav menggunakan paket pyreadstat\n",
    "sedangkan load .csv cukup dengan menggunakan fungsi bawaan pandas.read_csv "
   ]
  },
  {
   "cell_type": "code",
   "execution_count": 2,
   "id": "pacific-dublin",
   "metadata": {},
   "outputs": [],
   "source": [
    "import pyreadstat\n",
    "df_kor_rt, meta_kor_rt = pyreadstat.read_sav(\"C:\\\\Users\\\\Asus\\\\Documents\\\\TUTORIAL\\\\DUPAK\\\\Maret 2020\\\\14 SSN 202003\\\\14_ssn_202003_kor_rt.sav\")\n",
    "df_kor_ind1, meta_kor_ind1 = pyreadstat.read_sav(\"C:\\\\Users\\\\Asus\\\\Documents\\\\TUTORIAL\\\\DUPAK\\\\Maret 2020\\\\14 SSN 202003\\\\14_ssn_202003_kor_ind1.sav\")\n",
    "df_kor_ind2, meta_kor_ind2 = pyreadstat.read_sav(\"C:\\\\Users\\\\Asus\\\\Documents\\\\TUTORIAL\\\\DUPAK\\\\Maret 2020\\\\14 SSN 202003\\\\14_ssn_202003_kor_ind2.sav\")\n",
    "df_kp41, meta_kp41 = pyreadstat.read_sav(\"C:\\\\Users\\\\Asus\\\\Documents\\\\TUTORIAL\\\\DUPAK\\\\Maret 2020\\\\14 SSN 202003\\\\14_ssn_202003_kp41.sav\")\n",
    "df_kp42, meta_kp42 = pyreadstat.read_sav(\"C:\\\\Users\\\\Asus\\\\Documents\\\\TUTORIAL\\\\DUPAK\\\\Maret 2020\\\\14 SSN 202003\\\\14_ssn_202003_kp42.sav\")\n",
    "df_kp43, meta_kp43 = pyreadstat.read_sav(\"C:\\\\Users\\\\Asus\\\\Documents\\\\TUTORIAL\\\\DUPAK\\\\Maret 2020\\\\14 SSN 202003\\\\14_ssn_202003_kp43.sav\")\n",
    "riau_kons_41 = pd.read_csv(\"riau_kons.csv\")\n",
    "riau_kons_42 = pd.read_csv(\"riau_kons_42.csv\")"
   ]
  },
  {
   "cell_type": "code",
   "execution_count": 3,
   "id": "unlimited-dallas",
   "metadata": {
    "scrolled": false
   },
   "outputs": [
    {
     "name": "stdout",
     "output_type": "stream",
     "text": [
      "(8182, 240) (31721, 156) (31721, 157)\n",
      "(417696, 27) (340036, 26) (8182, 22)\n",
      "(8182, 175) (8182, 103)\n"
     ]
    }
   ],
   "source": [
    "print (df_kor_rt.shape, df_kor_ind1.shape, df_kor_ind2.shape)\n",
    "print (df_kp41.shape, df_kp42.shape, df_kp43.shape)\n",
    "print (riau_kons_41.shape, riau_kons_42.shape)"
   ]
  },
  {
   "cell_type": "markdown",
   "id": "coastal-constitutional",
   "metadata": {},
   "source": [
    "## Menggabungkan/merge data\n",
    "Menggabungkan data kor rumah tangga dengan data pengeluaran per kapita rumah tangga\n",
    "Menggabungkan data dengan fungsi merge dari pandas"
   ]
  },
  {
   "cell_type": "code",
   "execution_count": 4,
   "id": "fabulous-preparation",
   "metadata": {},
   "outputs": [
    {
     "data": {
      "text/plain": [
       "(8182, 242)"
      ]
     },
     "execution_count": 4,
     "metadata": {},
     "output_type": "execute_result"
    }
   ],
   "source": [
    "# Menggabungkan data kor dengan data pengeluaran per kapita\n",
    "riau_rt = df_kor_rt.merge(df_kp43[[\"renum\", \"kapita\", \"weind\"]], on='renum', how='left')\n",
    "riau_rt.shape"
   ]
  },
  {
   "cell_type": "code",
   "execution_count": 5,
   "id": "wanted-currency",
   "metadata": {},
   "outputs": [
    {
     "data": {
      "text/plain": [
       "(8182, 243)"
      ]
     },
     "execution_count": 5,
     "metadata": {},
     "output_type": "execute_result"
    }
   ],
   "source": [
    "# Memberikan label miskin berdasarkan garis kemiskinan maret 2020\n",
    "# perkotaan 570462, perdesaan 526431\n",
    "# perkotaan r105 =1, perdesaan r105=2\n",
    "riau_rt['miskin'] = np.where((((riau_rt['r105'] == 1) & (riau_rt['kapita'] < 570462)) | \n",
    "                              ((riau_rt['r105'] == 2) & (riau_rt['kapita'] < 526431))), True, False)\n",
    "riau_rt.shape"
   ]
  },
  {
   "cell_type": "code",
   "execution_count": 6,
   "id": "indonesian-alarm",
   "metadata": {},
   "outputs": [
    {
     "data": {
      "text/plain": [
       "(8182, 519)"
      ]
     },
     "execution_count": 6,
     "metadata": {},
     "output_type": "execute_result"
    }
   ],
   "source": [
    "# Menggabungkan data kor riau dengan data variabel konsumsi komoditas\n",
    "riau_rt = riau_rt.merge(riau_kons_41, on='renum', how='left')\n",
    "riau_rt = riau_rt.merge(riau_kons_42, on='renum', how='left')\n",
    "riau_rt.shape"
   ]
  },
  {
   "cell_type": "code",
   "execution_count": 7,
   "id": "strong-heritage",
   "metadata": {
    "scrolled": false
   },
   "outputs": [
    {
     "name": "stdout",
     "output_type": "stream",
     "text": [
      "(3030, 519) (5152, 519)\n"
     ]
    }
   ],
   "source": [
    "# memecah menjadi sampel kota dan desa\n",
    "# untuk mengecek apakah sesuai dengan p0 perkotaan dan perdesaan\n",
    "riau_rt_kota = riau_rt[riau_rt['r105'] == 1]\n",
    "riau_rt_desa = riau_rt[riau_rt['r105'] == 2]\n",
    "\n",
    "print(riau_rt_kota.shape, riau_rt_desa.shape)"
   ]
  },
  {
   "cell_type": "markdown",
   "id": "premium-monkey",
   "metadata": {},
   "source": [
    "## Mengecek apakah angka kemiskinan sudah sesuai"
   ]
  },
  {
   "cell_type": "code",
   "execution_count": 8,
   "id": "dried-belle",
   "metadata": {
    "scrolled": false
   },
   "outputs": [
    {
     "name": "stdout",
     "output_type": "stream",
     "text": [
      "            weind\n",
      "miskin           \n",
      "False   93.180994\n",
      "True     6.819006\n"
     ]
    }
   ],
   "source": [
    "# persentase penduduk miskin riau (perkotaan+perdesaan) adalah 6,82\n",
    "p0 = riau_rt.groupby('miskin').agg({'weind': 'sum'}).sort_values('weind', ascending=False)\n",
    "p0['weind']=(p0['weind']*100)/p0['weind'].sum()\n",
    "print(p0)"
   ]
  },
  {
   "cell_type": "code",
   "execution_count": 9,
   "id": "rotary-pontiac",
   "metadata": {
    "scrolled": false
   },
   "outputs": [
    {
     "name": "stdout",
     "output_type": "stream",
     "text": [
      "            weind\n",
      "miskin           \n",
      "False   93.875877\n",
      "True     6.124123\n"
     ]
    }
   ],
   "source": [
    "# persentase penduduk miskin riau (perkotaan) adalah 6,12\n",
    "p0_kota = riau_rt_kota.groupby('miskin').agg({'weind': 'sum'}).sort_values('weind', ascending=False)\n",
    "p0_kota['weind']=(p0_kota['weind']*100)/p0_kota['weind'].sum()\n",
    "print(p0_kota)"
   ]
  },
  {
   "cell_type": "code",
   "execution_count": 10,
   "id": "little-agent",
   "metadata": {
    "scrolled": false
   },
   "outputs": [
    {
     "name": "stdout",
     "output_type": "stream",
     "text": [
      "            weind\n",
      "miskin           \n",
      "False   92.711005\n",
      "True     7.288995\n"
     ]
    }
   ],
   "source": [
    "# persentase penduduk miskin riau (perdesaan) adalah 7,29\n",
    "p0_desa = riau_rt_desa.groupby('miskin').agg({'weind': 'sum'}).sort_values('weind', ascending=False)\n",
    "p0_desa['weind']=(p0_desa['weind']*100)/p0_desa['weind'].sum()\n",
    "print(p0_desa)"
   ]
  },
  {
   "cell_type": "code",
   "execution_count": null,
   "id": "precise-array",
   "metadata": {
    "scrolled": true
   },
   "outputs": [],
   "source": [
    "riau_rt.head()"
   ]
  },
  {
   "cell_type": "markdown",
   "id": "polish-smoke",
   "metadata": {},
   "source": [
    "## Build derived features from individual data \n",
    "##### Derived features:\n",
    "* Number of children (age 10 and under) in household \n",
    "* Number of males in household (over 10 years old)\n",
    "* Number of females in household (over 10 years old)\n",
    "* Jumlah anggota keluarga yang dapat membaca dan menulis huruf latin/alfabe\n",
    "* Jumlah anggota keluarga yang bekerja selama seminggu terakhir\n",
    "* Jumlah anggota keluarga yang pernah menggunakan internet dalam tiga bulan terakhir"
   ]
  },
  {
   "cell_type": "code",
   "execution_count": 11,
   "id": "international-greece",
   "metadata": {},
   "outputs": [
    {
     "data": {
      "text/plain": [
       "(31721, 313)"
      ]
     },
     "execution_count": 11,
     "metadata": {},
     "output_type": "execute_result"
    }
   ],
   "source": [
    "# Menggabungkan data individu\n",
    "riau_ind = pd.concat([df_kor_ind1, df_kor_ind2], axis=1)\n",
    "riau_ind.shape"
   ]
  },
  {
   "cell_type": "code",
   "execution_count": 12,
   "id": "foster-contest",
   "metadata": {},
   "outputs": [
    {
     "data": {
      "text/plain": [
       "(31721, 300)"
      ]
     },
     "execution_count": 12,
     "metadata": {},
     "output_type": "execute_result"
    }
   ],
   "source": [
    "# Membuang kolom yang duplikat\n",
    "riau_ind = riau_ind.loc[:,~riau_ind.columns.duplicated()]\n",
    "riau_ind.shape"
   ]
  },
  {
   "cell_type": "code",
   "execution_count": null,
   "id": "based-replica",
   "metadata": {},
   "outputs": [],
   "source": [
    "# riau_ind.to_csv('riau_ind.csv', index = False, header=True)"
   ]
  },
  {
   "cell_type": "code",
   "execution_count": null,
   "id": "jewish-trouble",
   "metadata": {
    "scrolled": true
   },
   "outputs": [],
   "source": [
    "# riau_rt.r304.sum().astype(int)"
   ]
  },
  {
   "cell_type": "code",
   "execution_count": null,
   "id": "taken-challenge",
   "metadata": {
    "scrolled": true
   },
   "outputs": [],
   "source": [
    "# (riau_ind.r407 >= 10).sum().astype(int)"
   ]
  },
  {
   "cell_type": "code",
   "execution_count": null,
   "id": "civil-person",
   "metadata": {},
   "outputs": [],
   "source": [
    "# Number of children (age 10 and under) in household\n",
    "# riau_ind.groupby(['renum'])[['der_nchild10under']].agg('sum')"
   ]
  },
  {
   "cell_type": "code",
   "execution_count": 13,
   "id": "becoming-hollow",
   "metadata": {},
   "outputs": [],
   "source": [
    "def add_derived_feature(df_rt, \n",
    "                        df_ind, \n",
    "                        feature_name, \n",
    "                        value, \n",
    "                        ):\n",
    "    '''Menambahkan variabel baru ke data rumah tangga'''\n",
    "    df_ind['der_' + feature_name] = value\n",
    "    value2 = df_ind.groupby(['renum'])[['der_' + feature_name]].agg('sum')\n",
    "    value2['renum'] = value2.index\n",
    "    value2.reset_index(drop=True,level=0, inplace=True)\n",
    "    df_rt = df_rt.merge(value2, on='renum', how='left')\n",
    "    return df_rt"
   ]
  },
  {
   "cell_type": "code",
   "execution_count": 14,
   "id": "blessed-lending",
   "metadata": {
    "scrolled": true
   },
   "outputs": [
    {
     "data": {
      "text/html": [
       "<div>\n",
       "<style scoped>\n",
       "    .dataframe tbody tr th:only-of-type {\n",
       "        vertical-align: middle;\n",
       "    }\n",
       "\n",
       "    .dataframe tbody tr th {\n",
       "        vertical-align: top;\n",
       "    }\n",
       "\n",
       "    .dataframe thead th {\n",
       "        text-align: right;\n",
       "    }\n",
       "</style>\n",
       "<table border=\"1\" class=\"dataframe\">\n",
       "  <thead>\n",
       "    <tr style=\"text-align: right;\">\n",
       "      <th></th>\n",
       "      <th>D_R</th>\n",
       "      <th>r101</th>\n",
       "      <th>r102</th>\n",
       "      <th>r105</th>\n",
       "      <th>nuinfort</th>\n",
       "      <th>r1701</th>\n",
       "      <th>r1702</th>\n",
       "      <th>r1703</th>\n",
       "      <th>r1704</th>\n",
       "      <th>r1705</th>\n",
       "      <th>...</th>\n",
       "      <th>kons_301</th>\n",
       "      <th>kons_302</th>\n",
       "      <th>kons_303</th>\n",
       "      <th>kons_305</th>\n",
       "      <th>kons_306</th>\n",
       "      <th>kons_307</th>\n",
       "      <th>kons_308</th>\n",
       "      <th>kons_309</th>\n",
       "      <th>kons_310</th>\n",
       "      <th>der_nchild10under</th>\n",
       "    </tr>\n",
       "  </thead>\n",
       "  <tbody>\n",
       "    <tr>\n",
       "      <th>0</th>\n",
       "      <td></td>\n",
       "      <td>14.0</td>\n",
       "      <td>1.0</td>\n",
       "      <td>2.0</td>\n",
       "      <td>2.0</td>\n",
       "      <td>5.0</td>\n",
       "      <td>5.0</td>\n",
       "      <td>5.0</td>\n",
       "      <td>5.0</td>\n",
       "      <td>5.0</td>\n",
       "      <td>...</td>\n",
       "      <td>0</td>\n",
       "      <td>0</td>\n",
       "      <td>0</td>\n",
       "      <td>0</td>\n",
       "      <td>0</td>\n",
       "      <td>0</td>\n",
       "      <td>0</td>\n",
       "      <td>0</td>\n",
       "      <td>0</td>\n",
       "      <td>0</td>\n",
       "    </tr>\n",
       "    <tr>\n",
       "      <th>1</th>\n",
       "      <td></td>\n",
       "      <td>14.0</td>\n",
       "      <td>1.0</td>\n",
       "      <td>2.0</td>\n",
       "      <td>1.0</td>\n",
       "      <td>5.0</td>\n",
       "      <td>5.0</td>\n",
       "      <td>5.0</td>\n",
       "      <td>5.0</td>\n",
       "      <td>1.0</td>\n",
       "      <td>...</td>\n",
       "      <td>1</td>\n",
       "      <td>0</td>\n",
       "      <td>0</td>\n",
       "      <td>0</td>\n",
       "      <td>0</td>\n",
       "      <td>0</td>\n",
       "      <td>0</td>\n",
       "      <td>0</td>\n",
       "      <td>0</td>\n",
       "      <td>3</td>\n",
       "    </tr>\n",
       "    <tr>\n",
       "      <th>2</th>\n",
       "      <td></td>\n",
       "      <td>14.0</td>\n",
       "      <td>1.0</td>\n",
       "      <td>2.0</td>\n",
       "      <td>2.0</td>\n",
       "      <td>5.0</td>\n",
       "      <td>5.0</td>\n",
       "      <td>5.0</td>\n",
       "      <td>5.0</td>\n",
       "      <td>5.0</td>\n",
       "      <td>...</td>\n",
       "      <td>1</td>\n",
       "      <td>0</td>\n",
       "      <td>0</td>\n",
       "      <td>0</td>\n",
       "      <td>0</td>\n",
       "      <td>0</td>\n",
       "      <td>0</td>\n",
       "      <td>0</td>\n",
       "      <td>0</td>\n",
       "      <td>0</td>\n",
       "    </tr>\n",
       "    <tr>\n",
       "      <th>3</th>\n",
       "      <td></td>\n",
       "      <td>14.0</td>\n",
       "      <td>1.0</td>\n",
       "      <td>2.0</td>\n",
       "      <td>2.0</td>\n",
       "      <td>5.0</td>\n",
       "      <td>5.0</td>\n",
       "      <td>5.0</td>\n",
       "      <td>5.0</td>\n",
       "      <td>5.0</td>\n",
       "      <td>...</td>\n",
       "      <td>0</td>\n",
       "      <td>0</td>\n",
       "      <td>0</td>\n",
       "      <td>0</td>\n",
       "      <td>0</td>\n",
       "      <td>0</td>\n",
       "      <td>0</td>\n",
       "      <td>0</td>\n",
       "      <td>0</td>\n",
       "      <td>0</td>\n",
       "    </tr>\n",
       "    <tr>\n",
       "      <th>4</th>\n",
       "      <td></td>\n",
       "      <td>14.0</td>\n",
       "      <td>1.0</td>\n",
       "      <td>2.0</td>\n",
       "      <td>1.0</td>\n",
       "      <td>1.0</td>\n",
       "      <td>1.0</td>\n",
       "      <td>1.0</td>\n",
       "      <td>5.0</td>\n",
       "      <td>5.0</td>\n",
       "      <td>...</td>\n",
       "      <td>0</td>\n",
       "      <td>0</td>\n",
       "      <td>0</td>\n",
       "      <td>0</td>\n",
       "      <td>0</td>\n",
       "      <td>0</td>\n",
       "      <td>0</td>\n",
       "      <td>0</td>\n",
       "      <td>0</td>\n",
       "      <td>1</td>\n",
       "    </tr>\n",
       "  </tbody>\n",
       "</table>\n",
       "<p>5 rows × 520 columns</p>\n",
       "</div>"
      ],
      "text/plain": [
       "  D_R  r101  r102  r105  nuinfort  r1701  r1702  r1703  r1704  r1705  ...  \\\n",
       "0      14.0   1.0   2.0       2.0    5.0    5.0    5.0    5.0    5.0  ...   \n",
       "1      14.0   1.0   2.0       1.0    5.0    5.0    5.0    5.0    1.0  ...   \n",
       "2      14.0   1.0   2.0       2.0    5.0    5.0    5.0    5.0    5.0  ...   \n",
       "3      14.0   1.0   2.0       2.0    5.0    5.0    5.0    5.0    5.0  ...   \n",
       "4      14.0   1.0   2.0       1.0    1.0    1.0    1.0    5.0    5.0  ...   \n",
       "\n",
       "   kons_301  kons_302  kons_303  kons_305  kons_306  kons_307 kons_308  \\\n",
       "0         0         0         0         0         0         0        0   \n",
       "1         1         0         0         0         0         0        0   \n",
       "2         1         0         0         0         0         0        0   \n",
       "3         0         0         0         0         0         0        0   \n",
       "4         0         0         0         0         0         0        0   \n",
       "\n",
       "   kons_309  kons_310  der_nchild10under  \n",
       "0         0         0                  0  \n",
       "1         0         0                  3  \n",
       "2         0         0                  0  \n",
       "3         0         0                  0  \n",
       "4         0         0                  1  \n",
       "\n",
       "[5 rows x 520 columns]"
      ]
     },
     "execution_count": 14,
     "metadata": {},
     "output_type": "execute_result"
    }
   ],
   "source": [
    "# IDN - Number of children (Under 10) in household\n",
    "value = pd.DataFrame(riau_ind.r407 < 10).sum(level=0).astype(int)\n",
    "riau_rt = add_derived_feature(riau_rt, riau_ind, 'nchild10under', value)\n",
    "riau_rt.head()"
   ]
  },
  {
   "cell_type": "code",
   "execution_count": 15,
   "id": "virgin-mainstream",
   "metadata": {
    "scrolled": false
   },
   "outputs": [
    {
     "data": {
      "text/plain": [
       "(8182, 521)"
      ]
     },
     "execution_count": 15,
     "metadata": {},
     "output_type": "execute_result"
    }
   ],
   "source": [
    "# IDN - Number of males and females in household >= 10\n",
    "value = pd.DataFrame((riau_ind.r407 >= 10) & (riau_ind.r405 == 1)).sum(level=0).astype(int)\n",
    "riau_rt = add_derived_feature(riau_rt, riau_ind, 'nmalesover10', value)\n",
    "riau_rt.shape"
   ]
  },
  {
   "cell_type": "code",
   "execution_count": 16,
   "id": "sharing-father",
   "metadata": {
    "scrolled": true
   },
   "outputs": [
    {
     "data": {
      "text/plain": [
       "(8182, 522)"
      ]
     },
     "execution_count": 16,
     "metadata": {},
     "output_type": "execute_result"
    }
   ],
   "source": [
    "# IDN - Number of males and females in household >= 10\n",
    "value = pd.DataFrame((riau_ind.r407 >= 10) & (riau_ind.r405 == 2)).sum(level=0).astype(int)\n",
    "riau_rt = add_derived_feature(riau_rt, riau_ind, 'nfemalesover10', value)\n",
    "riau_rt.shape"
   ]
  },
  {
   "cell_type": "code",
   "execution_count": 17,
   "id": "robust-worker",
   "metadata": {},
   "outputs": [
    {
     "data": {
      "text/plain": [
       "(8182, 523)"
      ]
     },
     "execution_count": 17,
     "metadata": {},
     "output_type": "execute_result"
    }
   ],
   "source": [
    "# IDN - Jumlah anggota rumah tangga yang dapat membaca dan menulis huruf latin/alfabet\n",
    "value = pd.DataFrame(riau_ind.r609 == 1).sum(level=0).astype(int)\n",
    "riau_rt = add_derived_feature(riau_rt, riau_ind, 'nliterate', value)\n",
    "riau_rt.shape"
   ]
  },
  {
   "cell_type": "code",
   "execution_count": 18,
   "id": "domestic-subsection",
   "metadata": {},
   "outputs": [
    {
     "data": {
      "text/plain": [
       "(8182, 524)"
      ]
     },
     "execution_count": 18,
     "metadata": {},
     "output_type": "execute_result"
    }
   ],
   "source": [
    "# IDN - Jumlah anggota rumah tangga yang bekerja selama seminggu terakhir\n",
    "value = pd.DataFrame(riau_ind.r702_a == 'A').sum(level=0).astype(int)\n",
    "riau_rt = add_derived_feature(riau_rt, riau_ind, 'nbekerja', value)\n",
    "riau_rt.shape"
   ]
  },
  {
   "cell_type": "code",
   "execution_count": 19,
   "id": "european-romance",
   "metadata": {},
   "outputs": [
    {
     "data": {
      "text/plain": [
       "(8182, 525)"
      ]
     },
     "execution_count": 19,
     "metadata": {},
     "output_type": "execute_result"
    }
   ],
   "source": [
    "# IDN - Jumlah anggota rumah tangga yang pernah menggunakan internet dalam tiga bulan terakhir\n",
    "value = pd.DataFrame(riau_ind.r808 == 1).sum(level=0).astype(int)\n",
    "riau_rt = add_derived_feature(riau_rt, riau_ind, 'ninternetpast3mo', value)\n",
    "riau_rt.shape"
   ]
  },
  {
   "cell_type": "markdown",
   "id": "floating-pattern",
   "metadata": {},
   "source": [
    "### Mengecek variabel konsumi mana yang paling banyak di konsumsi\n",
    "Keterangan : variabel dengan awalan kons"
   ]
  },
  {
   "cell_type": "code",
   "execution_count": 20,
   "id": "genuine-trail",
   "metadata": {
    "scrolled": true
   },
   "outputs": [
    {
     "data": {
      "text/html": [
       "<div>\n",
       "<style scoped>\n",
       "    .dataframe tbody tr th:only-of-type {\n",
       "        vertical-align: middle;\n",
       "    }\n",
       "\n",
       "    .dataframe tbody tr th {\n",
       "        vertical-align: top;\n",
       "    }\n",
       "\n",
       "    .dataframe thead th {\n",
       "        text-align: right;\n",
       "    }\n",
       "</style>\n",
       "<table border=\"1\" class=\"dataframe\">\n",
       "  <thead>\n",
       "    <tr style=\"text-align: right;\">\n",
       "      <th></th>\n",
       "      <th>tidak_miskin</th>\n",
       "      <th>miskin</th>\n",
       "      <th>total</th>\n",
       "      <th>percent</th>\n",
       "    </tr>\n",
       "  </thead>\n",
       "  <tbody>\n",
       "    <tr>\n",
       "      <th>kons_232</th>\n",
       "      <td>7772</td>\n",
       "      <td>398</td>\n",
       "      <td>8170</td>\n",
       "      <td>0.998533</td>\n",
       "    </tr>\n",
       "    <tr>\n",
       "      <th>kons_235</th>\n",
       "      <td>7719</td>\n",
       "      <td>397</td>\n",
       "      <td>8116</td>\n",
       "      <td>0.991934</td>\n",
       "    </tr>\n",
       "    <tr>\n",
       "      <th>kons_2</th>\n",
       "      <td>7632</td>\n",
       "      <td>402</td>\n",
       "      <td>8034</td>\n",
       "      <td>0.981912</td>\n",
       "    </tr>\n",
       "    <tr>\n",
       "      <th>kons_197</th>\n",
       "      <td>7589</td>\n",
       "      <td>381</td>\n",
       "      <td>7970</td>\n",
       "      <td>0.974089</td>\n",
       "    </tr>\n",
       "    <tr>\n",
       "      <th>kons_134</th>\n",
       "      <td>7519</td>\n",
       "      <td>396</td>\n",
       "      <td>7915</td>\n",
       "      <td>0.967367</td>\n",
       "    </tr>\n",
       "    <tr>\n",
       "      <th>kons_233</th>\n",
       "      <td>7456</td>\n",
       "      <td>372</td>\n",
       "      <td>7828</td>\n",
       "      <td>0.956734</td>\n",
       "    </tr>\n",
       "    <tr>\n",
       "      <th>kons_92</th>\n",
       "      <td>7428</td>\n",
       "      <td>389</td>\n",
       "      <td>7817</td>\n",
       "      <td>0.955390</td>\n",
       "    </tr>\n",
       "    <tr>\n",
       "      <th>kons_122</th>\n",
       "      <td>7367</td>\n",
       "      <td>387</td>\n",
       "      <td>7754</td>\n",
       "      <td>0.947690</td>\n",
       "    </tr>\n",
       "    <tr>\n",
       "      <th>kons_126</th>\n",
       "      <td>7366</td>\n",
       "      <td>366</td>\n",
       "      <td>7732</td>\n",
       "      <td>0.945001</td>\n",
       "    </tr>\n",
       "    <tr>\n",
       "      <th>kons_227</th>\n",
       "      <td>7360</td>\n",
       "      <td>350</td>\n",
       "      <td>7710</td>\n",
       "      <td>0.942312</td>\n",
       "    </tr>\n",
       "    <tr>\n",
       "      <th>kons_276</th>\n",
       "      <td>7317</td>\n",
       "      <td>360</td>\n",
       "      <td>7677</td>\n",
       "      <td>0.938279</td>\n",
       "    </tr>\n",
       "    <tr>\n",
       "      <th>kons_272</th>\n",
       "      <td>7292</td>\n",
       "      <td>354</td>\n",
       "      <td>7646</td>\n",
       "      <td>0.934490</td>\n",
       "    </tr>\n",
       "    <tr>\n",
       "      <th>kons_216</th>\n",
       "      <td>7284</td>\n",
       "      <td>314</td>\n",
       "      <td>7598</td>\n",
       "      <td>0.928624</td>\n",
       "    </tr>\n",
       "    <tr>\n",
       "      <th>kons_271</th>\n",
       "      <td>7164</td>\n",
       "      <td>328</td>\n",
       "      <td>7492</td>\n",
       "      <td>0.915669</td>\n",
       "    </tr>\n",
       "    <tr>\n",
       "      <th>kons_225</th>\n",
       "      <td>7132</td>\n",
       "      <td>347</td>\n",
       "      <td>7479</td>\n",
       "      <td>0.914080</td>\n",
       "    </tr>\n",
       "    <tr>\n",
       "      <th>kons_299</th>\n",
       "      <td>7147</td>\n",
       "      <td>312</td>\n",
       "      <td>7459</td>\n",
       "      <td>0.911635</td>\n",
       "    </tr>\n",
       "    <tr>\n",
       "      <th>kons_207</th>\n",
       "      <td>7146</td>\n",
       "      <td>311</td>\n",
       "      <td>7457</td>\n",
       "      <td>0.911391</td>\n",
       "    </tr>\n",
       "    <tr>\n",
       "      <th>kons_63</th>\n",
       "      <td>7058</td>\n",
       "      <td>353</td>\n",
       "      <td>7411</td>\n",
       "      <td>0.905769</td>\n",
       "    </tr>\n",
       "    <tr>\n",
       "      <th>kons_93</th>\n",
       "      <td>7055</td>\n",
       "      <td>346</td>\n",
       "      <td>7401</td>\n",
       "      <td>0.904547</td>\n",
       "    </tr>\n",
       "    <tr>\n",
       "      <th>kons_94</th>\n",
       "      <td>6991</td>\n",
       "      <td>350</td>\n",
       "      <td>7341</td>\n",
       "      <td>0.897213</td>\n",
       "    </tr>\n",
       "  </tbody>\n",
       "</table>\n",
       "</div>"
      ],
      "text/plain": [
       "          tidak_miskin  miskin  total   percent\n",
       "kons_232          7772     398   8170  0.998533\n",
       "kons_235          7719     397   8116  0.991934\n",
       "kons_2            7632     402   8034  0.981912\n",
       "kons_197          7589     381   7970  0.974089\n",
       "kons_134          7519     396   7915  0.967367\n",
       "kons_233          7456     372   7828  0.956734\n",
       "kons_92           7428     389   7817  0.955390\n",
       "kons_122          7367     387   7754  0.947690\n",
       "kons_126          7366     366   7732  0.945001\n",
       "kons_227          7360     350   7710  0.942312\n",
       "kons_276          7317     360   7677  0.938279\n",
       "kons_272          7292     354   7646  0.934490\n",
       "kons_216          7284     314   7598  0.928624\n",
       "kons_271          7164     328   7492  0.915669\n",
       "kons_225          7132     347   7479  0.914080\n",
       "kons_299          7147     312   7459  0.911635\n",
       "kons_207          7146     311   7457  0.911391\n",
       "kons_63           7058     353   7411  0.905769\n",
       "kons_93           7055     346   7401  0.904547\n",
       "kons_94           6991     350   7341  0.897213"
      ]
     },
     "execution_count": 20,
     "metadata": {},
     "output_type": "execute_result"
    }
   ],
   "source": [
    "# Filter consumables and group by poor/non-poor\n",
    "consumable_columns = [x for x in riau_rt.columns if x.startswith('kons_')]\n",
    "consumables = (riau_rt.groupby('miskin')[consumable_columns].sum().T)\n",
    "\n",
    "consumables.columns = ['tidak_miskin', 'miskin']\n",
    "consumables['total'] = consumables.sum(axis=1)\n",
    "consumables['percent'] = consumables.total / riau_rt.shape[0]\n",
    "\n",
    "# Display the top 10 most common consumables\n",
    "consumables.sort_values('percent', ascending=False).head(20)"
   ]
  },
  {
   "cell_type": "code",
   "execution_count": 21,
   "id": "accompanied-mumbai",
   "metadata": {
    "scrolled": true
   },
   "outputs": [
    {
     "data": {
      "image/png": "[encoded data removed]",
      "text/plain": [
       "<Figure size 432x288 with 1 Axes>"
      ]
     },
     "metadata": {},
     "output_type": "display_data"
    }
   ],
   "source": [
    "# Plot the top 10 most common consumables\n",
    "(consumables.total\n",
    "            .sort_values(ascending=False)\n",
    "            .head(20)\n",
    "            .sort_values(ascending=True).plot.barh());"
   ]
  },
  {
   "cell_type": "code",
   "execution_count": 22,
   "id": "considerable-austria",
   "metadata": {
    "scrolled": true
   },
   "outputs": [
    {
     "data": {
      "text/html": [
       "<div>\n",
       "<style scoped>\n",
       "    .dataframe tbody tr th:only-of-type {\n",
       "        vertical-align: middle;\n",
       "    }\n",
       "\n",
       "    .dataframe tbody tr th {\n",
       "        vertical-align: top;\n",
       "    }\n",
       "\n",
       "    .dataframe thead th {\n",
       "        text-align: right;\n",
       "    }\n",
       "</style>\n",
       "<table border=\"1\" class=\"dataframe\">\n",
       "  <thead>\n",
       "    <tr style=\"text-align: right;\">\n",
       "      <th></th>\n",
       "      <th>tidak_miskin</th>\n",
       "      <th>miskin</th>\n",
       "      <th>total</th>\n",
       "      <th>percent</th>\n",
       "      <th>difference</th>\n",
       "    </tr>\n",
       "  </thead>\n",
       "  <tbody>\n",
       "    <tr>\n",
       "      <th>kons_310</th>\n",
       "      <td>75</td>\n",
       "      <td>0</td>\n",
       "      <td>75</td>\n",
       "      <td>0.009166</td>\n",
       "      <td>1.000000</td>\n",
       "    </tr>\n",
       "    <tr>\n",
       "      <th>kons_285</th>\n",
       "      <td>156</td>\n",
       "      <td>0</td>\n",
       "      <td>156</td>\n",
       "      <td>0.019066</td>\n",
       "      <td>1.000000</td>\n",
       "    </tr>\n",
       "    <tr>\n",
       "      <th>kons_88</th>\n",
       "      <td>184</td>\n",
       "      <td>0</td>\n",
       "      <td>184</td>\n",
       "      <td>0.022488</td>\n",
       "      <td>1.000000</td>\n",
       "    </tr>\n",
       "    <tr>\n",
       "      <th>kons_308</th>\n",
       "      <td>69</td>\n",
       "      <td>0</td>\n",
       "      <td>69</td>\n",
       "      <td>0.008433</td>\n",
       "      <td>1.000000</td>\n",
       "    </tr>\n",
       "    <tr>\n",
       "      <th>kons_100</th>\n",
       "      <td>18</td>\n",
       "      <td>0</td>\n",
       "      <td>18</td>\n",
       "      <td>0.002200</td>\n",
       "      <td>1.000000</td>\n",
       "    </tr>\n",
       "    <tr>\n",
       "      <th>kons_50</th>\n",
       "      <td>74</td>\n",
       "      <td>0</td>\n",
       "      <td>74</td>\n",
       "      <td>0.009044</td>\n",
       "      <td>1.000000</td>\n",
       "    </tr>\n",
       "    <tr>\n",
       "      <th>kons_104</th>\n",
       "      <td>36</td>\n",
       "      <td>0</td>\n",
       "      <td>36</td>\n",
       "      <td>0.004400</td>\n",
       "      <td>1.000000</td>\n",
       "    </tr>\n",
       "    <tr>\n",
       "      <th>kons_105</th>\n",
       "      <td>11</td>\n",
       "      <td>0</td>\n",
       "      <td>11</td>\n",
       "      <td>0.001344</td>\n",
       "      <td>1.000000</td>\n",
       "    </tr>\n",
       "    <tr>\n",
       "      <th>kons_15</th>\n",
       "      <td>14</td>\n",
       "      <td>0</td>\n",
       "      <td>14</td>\n",
       "      <td>0.001711</td>\n",
       "      <td>1.000000</td>\n",
       "    </tr>\n",
       "    <tr>\n",
       "      <th>kons_59</th>\n",
       "      <td>29</td>\n",
       "      <td>0</td>\n",
       "      <td>29</td>\n",
       "      <td>0.003544</td>\n",
       "      <td>1.000000</td>\n",
       "    </tr>\n",
       "    <tr>\n",
       "      <th>kons_14</th>\n",
       "      <td>41</td>\n",
       "      <td>0</td>\n",
       "      <td>41</td>\n",
       "      <td>0.005011</td>\n",
       "      <td>1.000000</td>\n",
       "    </tr>\n",
       "    <tr>\n",
       "      <th>kons_40</th>\n",
       "      <td>57</td>\n",
       "      <td>0</td>\n",
       "      <td>57</td>\n",
       "      <td>0.006967</td>\n",
       "      <td>1.000000</td>\n",
       "    </tr>\n",
       "    <tr>\n",
       "      <th>kons_267</th>\n",
       "      <td>189</td>\n",
       "      <td>0</td>\n",
       "      <td>189</td>\n",
       "      <td>0.023099</td>\n",
       "      <td>1.000000</td>\n",
       "    </tr>\n",
       "    <tr>\n",
       "      <th>kons_262</th>\n",
       "      <td>219</td>\n",
       "      <td>0</td>\n",
       "      <td>219</td>\n",
       "      <td>0.026766</td>\n",
       "      <td>1.000000</td>\n",
       "    </tr>\n",
       "    <tr>\n",
       "      <th>kons_218</th>\n",
       "      <td>21</td>\n",
       "      <td>0</td>\n",
       "      <td>21</td>\n",
       "      <td>0.002567</td>\n",
       "      <td>1.000000</td>\n",
       "    </tr>\n",
       "    <tr>\n",
       "      <th>kons_226</th>\n",
       "      <td>38</td>\n",
       "      <td>0</td>\n",
       "      <td>38</td>\n",
       "      <td>0.004644</td>\n",
       "      <td>1.000000</td>\n",
       "    </tr>\n",
       "    <tr>\n",
       "      <th>kons_5</th>\n",
       "      <td>46</td>\n",
       "      <td>0</td>\n",
       "      <td>46</td>\n",
       "      <td>0.005622</td>\n",
       "      <td>1.000000</td>\n",
       "    </tr>\n",
       "    <tr>\n",
       "      <th>kons_305</th>\n",
       "      <td>232</td>\n",
       "      <td>0</td>\n",
       "      <td>232</td>\n",
       "      <td>0.028355</td>\n",
       "      <td>1.000000</td>\n",
       "    </tr>\n",
       "    <tr>\n",
       "      <th>kons_54</th>\n",
       "      <td>7</td>\n",
       "      <td>0</td>\n",
       "      <td>7</td>\n",
       "      <td>0.000856</td>\n",
       "      <td>1.000000</td>\n",
       "    </tr>\n",
       "    <tr>\n",
       "      <th>kons_265</th>\n",
       "      <td>385</td>\n",
       "      <td>1</td>\n",
       "      <td>386</td>\n",
       "      <td>0.047177</td>\n",
       "      <td>0.994819</td>\n",
       "    </tr>\n",
       "  </tbody>\n",
       "</table>\n",
       "</div>"
      ],
      "text/plain": [
       "          tidak_miskin  miskin  total   percent  difference\n",
       "kons_310            75       0     75  0.009166    1.000000\n",
       "kons_285           156       0    156  0.019066    1.000000\n",
       "kons_88            184       0    184  0.022488    1.000000\n",
       "kons_308            69       0     69  0.008433    1.000000\n",
       "kons_100            18       0     18  0.002200    1.000000\n",
       "kons_50             74       0     74  0.009044    1.000000\n",
       "kons_104            36       0     36  0.004400    1.000000\n",
       "kons_105            11       0     11  0.001344    1.000000\n",
       "kons_15             14       0     14  0.001711    1.000000\n",
       "kons_59             29       0     29  0.003544    1.000000\n",
       "kons_14             41       0     41  0.005011    1.000000\n",
       "kons_40             57       0     57  0.006967    1.000000\n",
       "kons_267           189       0    189  0.023099    1.000000\n",
       "kons_262           219       0    219  0.026766    1.000000\n",
       "kons_218            21       0     21  0.002567    1.000000\n",
       "kons_226            38       0     38  0.004644    1.000000\n",
       "kons_5              46       0     46  0.005622    1.000000\n",
       "kons_305           232       0    232  0.028355    1.000000\n",
       "kons_54              7       0      7  0.000856    1.000000\n",
       "kons_265           385       1    386  0.047177    0.994819"
      ]
     },
     "metadata": {},
     "output_type": "display_data"
    }
   ],
   "source": [
    "consumables['difference'] = (consumables.tidak_miskin - consumables.miskin) / consumables.total\n",
    "\n",
    "# Display the top 20 most common consumables\n",
    "display(consumables.sort_values('difference', ascending=False).head(20))"
   ]
  },
  {
   "cell_type": "markdown",
   "id": "inappropriate-friendship",
   "metadata": {},
   "source": [
    "## Create Train/Test Split and Save Data"
   ]
  },
  {
   "cell_type": "markdown",
   "id": "million-penny",
   "metadata": {},
   "source": [
    "As a final step, we want to split the data into training and test sets which will be used by all of the algorithms. We'll reserve 25% of the data as a test set."
   ]
  },
  {
   "cell_type": "code",
   "execution_count": 23,
   "id": "electrical-liberia",
   "metadata": {},
   "outputs": [],
   "source": [
    "# Split data menjadi training set dan tes set\n",
    "\n",
    "riau_train, riau_test = train_test_split(riau_rt,\n",
    "                                        test_size=0.25,\n",
    "                                        random_state=1443,\n",
    "                                        stratify=riau_rt.miskin)"
   ]
  },
  {
   "cell_type": "code",
   "execution_count": 24,
   "id": "universal-aspect",
   "metadata": {},
   "outputs": [],
   "source": [
    "# Simpan data ke file\n",
    "riau_train.to_csv(\"Susenas_Maret_2020\\\\riau_train.csv\", index = False, header=True)\n",
    "riau_test.to_csv(\"Susenas_Maret_2020\\\\riau_test.csv\", index = False, header=True)"
   ]
  },
  {
   "cell_type": "markdown",
   "id": "south-dependence",
   "metadata": {},
   "source": [
    "## Tambahan\n",
    "### Membuat data khusus dummy variabel data konsumsi\n",
    "* riau_kons dari kp41\n",
    "* riau_kons_42 dari kp42\n",
    "* Keterangan : uncomment untuk menjalankan (ctrl+/)"
   ]
  },
  {
   "cell_type": "markdown",
   "id": "occupational-fifteen",
   "metadata": {},
   "source": [
    "### riau_kons dari kp41"
   ]
  },
  {
   "cell_type": "code",
   "execution_count": null,
   "id": "ordered-evening",
   "metadata": {},
   "outputs": [],
   "source": [
    "# riau_kons = pd.DataFrame(riau_rt[\"renum\"], columns=['renum'])\n",
    "# riau_kons.head()"
   ]
  },
  {
   "cell_type": "code",
   "execution_count": null,
   "id": "advised-weather",
   "metadata": {},
   "outputs": [],
   "source": [
    "# for x in range(1,189):\n",
    "#     riau_kons['kons_'+ str(x)] = 0\n",
    "# riau_kons.shape"
   ]
  },
  {
   "cell_type": "code",
   "execution_count": null,
   "id": "median-digest",
   "metadata": {
    "scrolled": true
   },
   "outputs": [],
   "source": [
    "# riau_kons.head()"
   ]
  },
  {
   "cell_type": "code",
   "execution_count": null,
   "id": "prescription-slope",
   "metadata": {
    "scrolled": false
   },
   "outputs": [],
   "source": [
    "# riau_kons.loc[riau_kons['renum'] == 46056]"
   ]
  },
  {
   "cell_type": "code",
   "execution_count": null,
   "id": "associate-dancing",
   "metadata": {},
   "outputs": [],
   "source": [
    "# riau_kons.loc[riau_kons['renum'] == 46056, 'kons_'+ str(1)] = 0"
   ]
  },
  {
   "cell_type": "code",
   "execution_count": null,
   "id": "sustainable-incident",
   "metadata": {},
   "outputs": [],
   "source": [
    "# import warnings\n",
    "# warnings.filterwarnings('ignore')"
   ]
  },
  {
   "cell_type": "code",
   "execution_count": null,
   "id": "superior-promotion",
   "metadata": {},
   "outputs": [],
   "source": [
    "# for i in range(1): \n",
    "#     riau_kons.loc[riau_kons['renum'] == df_kp41.loc[i, \"renum\"], 'kons_' + str(df_kp41.loc[i, \"kode\"].astype(int))] = 0\n",
    "#     print(df_kp41.loc[i, \"renum\"], 'kons_' + str(df_kp41.loc[i, \"kode\"].astype(int)))"
   ]
  },
  {
   "cell_type": "code",
   "execution_count": null,
   "id": "finished-pound",
   "metadata": {},
   "outputs": [],
   "source": [
    "# for i in range(len(df_kp41)): \n",
    "#     riau_kons.loc[riau_kons['renum'] == df_kp41.loc[i, \"renum\"], 'kons_' + str(df_kp41.loc[i, \"kode\"].astype(int))] = 1 "
   ]
  },
  {
   "cell_type": "code",
   "execution_count": null,
   "id": "legislative-elephant",
   "metadata": {},
   "outputs": [],
   "source": [
    "# riau_kons.head()"
   ]
  },
  {
   "cell_type": "code",
   "execution_count": null,
   "id": "specialized-alexander",
   "metadata": {},
   "outputs": [],
   "source": [
    "# riau_kons.to_csv('riau_kons.csv', index = False, header=True)"
   ]
  },
  {
   "cell_type": "markdown",
   "id": "quarterly-bangladesh",
   "metadata": {},
   "source": [
    "### riau_kons_42 dari kp42"
   ]
  },
  {
   "cell_type": "code",
   "execution_count": null,
   "id": "fixed-isaac",
   "metadata": {
    "scrolled": true
   },
   "outputs": [],
   "source": [
    "# riau_kons_42 = pd.DataFrame(riau_rt[\"renum\"], columns=['renum'])\n",
    "# riau_kons_42.head()"
   ]
  },
  {
   "cell_type": "code",
   "execution_count": null,
   "id": "designed-sampling",
   "metadata": {},
   "outputs": [],
   "source": [
    "# for x in range(189,311):\n",
    "#     riau_kons_42['kons_'+ str(x)] = 0\n",
    "# riau_kons_42.shape"
   ]
  },
  {
   "cell_type": "code",
   "execution_count": null,
   "id": "identified-composite",
   "metadata": {
    "scrolled": true
   },
   "outputs": [],
   "source": [
    "# riau_kons_42.head()"
   ]
  },
  {
   "cell_type": "code",
   "execution_count": null,
   "id": "union-idaho",
   "metadata": {},
   "outputs": [],
   "source": [
    "# for i in range(len(df_kp42)): \n",
    "#     riau_kons_42.loc[riau_kons_42['renum'] == df_kp42.loc[i, \"renum\"], 'kons_' + str(df_kp42.loc[i, \"kode\"].astype(int))] = 1 "
   ]
  },
  {
   "cell_type": "code",
   "execution_count": null,
   "id": "periodic-definition",
   "metadata": {
    "scrolled": true
   },
   "outputs": [],
   "source": [
    "# riau_kons_42.head()"
   ]
  },
  {
   "cell_type": "code",
   "execution_count": null,
   "id": "disciplinary-mills",
   "metadata": {},
   "outputs": [],
   "source": [
    "# riau_kons_42.to_csv('riau_kons_42.csv', index = False, header=True)"
   ]
  }
 ],
 "metadata": {
  "kernelspec": {
   "display_name": "Python 3",
   "language": "python",
   "name": "python3"
  },
  "language_info": {
   "codemirror_mode": {
    "name": "ipython",
    "version": 3
   },
   "file_extension": ".py",
   "mimetype": "text/x-python",
   "name": "python",
   "nbconvert_exporter": "python",
   "pygments_lexer": "ipython3",
   "version": "3.8.5"
  }
 },
 "nbformat": 4,
 "nbformat_minor": 5
}
